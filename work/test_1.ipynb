{
 "cells": [
  {
   "cell_type": "code",
   "execution_count": 23,
   "metadata": {},
   "outputs": [],
   "source": [
    "import pandas as pd"
   ]
  },
  {
   "cell_type": "code",
   "execution_count": 24,
   "metadata": {
    "scrolled": true
   },
   "outputs": [
    {
     "name": "stdout",
     "output_type": "stream",
     "text": [
      "              Date       Open        Close       High         Low   \\\n",
      "0  2018-04-22 0:05  603.000000  599.109343  603.000000  598.950000   \n",
      "1  2018-04-22 0:10  602.430230  598.791954  602.430230  598.000000   \n",
      "2  2018-04-22 0:15  602.398906  600.460113  602.398906  599.989311   \n",
      "3  2018-04-22 0:20  600.766703  598.887581  600.766703  598.869072   \n",
      "4  2018-04-22 0:25  601.668523  602.283070  602.283070  601.668523   \n",
      "\n",
      "   weighedaverage  \n",
      "0      599.623065  \n",
      "1      599.225866  \n",
      "2      600.732646  \n",
      "3      598.904760  \n",
      "4      602.277006  \n"
     ]
    }
   ],
   "source": [
    "# read a csv file\n",
    "Realtime= pd.read_csv('Realtime_new1.csv')\n",
    "print(Realtime.head())"
   ]
  }
 ],
 "metadata": {
  "kernelspec": {
   "display_name": "Python 3",
   "language": "python",
   "name": "python3"
  },
  "language_info": {
   "codemirror_mode": {
    "name": "ipython",
    "version": 3
   },
   "file_extension": ".py",
   "mimetype": "text/x-python",
   "name": "python",
   "nbconvert_exporter": "python",
   "pygments_lexer": "ipython3",
   "version": "3.7.1"
  }
 },
 "nbformat": 4,
 "nbformat_minor": 2
}
